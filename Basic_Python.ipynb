{
  "nbformat": 4,
  "nbformat_minor": 0,
  "metadata": {
    "colab": {
      "provenance": []
    },
    "kernelspec": {
      "name": "python3",
      "display_name": "Python 3"
    },
    "language_info": {
      "name": "python"
    }
  },
  "cells": [
    {
      "cell_type": "code",
      "execution_count": null,
      "metadata": {
        "id": "cc59jgUFgGyR"
      },
      "outputs": [],
      "source": []
    },
    {
      "cell_type": "markdown",
      "source": [
        "1. What is Python, and why is it popular\n",
        "-🔹 What Is Python?\n",
        "High-level: Closer to human language, making it easier to read and write.\n",
        "\n",
        "Interpreted: Runs code line by line without the need for compiling.\n",
        "\n",
        "General-purpose: Used for a wide range of applications—from web development to data science."
      ],
      "metadata": {
        "id": "TKeSkNvVgOVi"
      }
    },
    {
      "cell_type": "markdown",
      "source": [
        "2. What is an interpreter in Python\n",
        "-An interpreter in Python is a program that reads and executes Python code line by line, translating it into machine code that your computer can understand and run.\n",
        "\n",
        "\n"
      ],
      "metadata": {
        "id": "8SKKKTViga1t"
      }
    },
    {
      "cell_type": "markdown",
      "source": [
        "3. What are pre-defined keywords in Python\n",
        "-Pre-defined keywords in Python are reserved words that have special meaning to the Python interpreter.\n",
        "You cannot use them as variable names, function names, or identifiers because they are part of the syntax and structure of the language.\n",
        "\n"
      ],
      "metadata": {
        "id": "ObTBSKPQglxZ"
      }
    },
    {
      "cell_type": "markdown",
      "source": [
        "4. Can keywords be used as variable names\n",
        "-No, Python keywords cannot be used as variable names.\n",
        "\n"
      ],
      "metadata": {
        "id": "mJ6oPfdHgxBt"
      }
    },
    {
      "cell_type": "markdown",
      "source": [
        "5. What is mutability in Python\n",
        "-Mutability refers to whether or not an object in Python can be changed after it is created.\n",
        "\n"
      ],
      "metadata": {
        "id": "_rVPPqIpg-Om"
      }
    },
    {
      "cell_type": "markdown",
      "source": [
        "6. Why are lists mutable, but tuples are immutable\n",
        "-✅ Lists → Mutable\n",
        "Definition: You can change, add, or remove elements after the list is created.\n",
        "\n",
        "Why?\n",
        "\n",
        "Lists are meant for dynamic collections.\n",
        "\n",
        "Ideal when you need to modify data frequently.\n",
        "\n",
        "Backed by internal data structures that allow resizing and modification.\n",
        "\n",
        "❌ Tuples → Immutable\n",
        "Definition: Once created, you cannot change the elements of a tuple.\n",
        "\n",
        "Why?\n",
        "\n",
        "Tuples are used for fixed collections of values (like coordinates, database rows).\n",
        "\n",
        "More memory-efficient and faster than lists.\n",
        "\n",
        "Can be used as dictionary keys or set elements because they are hashable.\n",
        "\n",
        "Protects data from accidental changes (safer in multi-threaded or constant-value scenarios)."
      ],
      "metadata": {
        "id": "zvA5r8cJhI9L"
      }
    },
    {
      "cell_type": "markdown",
      "source": [
        "7. What is the difference between “==” and “is” operators in Python\n",
        "-🔹 == → Equality Operator\n",
        "Checks whether two values are equal.\n",
        "\n",
        "Compares contents or values of the objects.\n",
        "🔹 is → Identity Operator\n",
        "Checks whether two variables point to the same object in memory.\n",
        "\n",
        "Compares object identity, not values.\n",
        "\n",
        "\n"
      ],
      "metadata": {
        "id": "QPHPa_MihZZ-"
      }
    },
    {
      "cell_type": "markdown",
      "source": [
        "8. What are logical operators in Python\n",
        "-Logical operators in Python are used to combine conditional statements (Boolean expressions). They return either True or False based on the logic.\n",
        "\n",
        "-And\n",
        "-or\n",
        "-not\n",
        "\n",
        "\n"
      ],
      "metadata": {
        "id": "zRyQZEftirC5"
      }
    },
    {
      "cell_type": "markdown",
      "source": [
        "9. What is type casting in Python\n",
        "-Type casting in Python refers to the process of converting one data type into another.\n",
        "\n",
        "There are two types of type casting:\n",
        "1.Explicit Typecasting\n",
        "2.Implicit Typecasting\n"
      ],
      "metadata": {
        "id": "vnfGuuxclRfU"
      }
    },
    {
      "cell_type": "markdown",
      "source": [
        "10. What is the difference between implicit and explicit type casting\n",
        "-Implicit type casting happens automatically when Python converts one data type to another without your involvement.\n",
        "🔹 Example: Python converts an int to a float during arithmetic if needed.\n",
        "\n",
        "Explicit type casting is when you manually convert one data type to another using built-in functions like int(), float(), or str().\n",
        "🔹 Example: You use int(\"5\") to convert a string into an integer.\n",
        "\n"
      ],
      "metadata": {
        "id": "qFssWJFolmK5"
      }
    },
    {
      "cell_type": "markdown",
      "source": [
        "11. What is the purpose of conditional statements in Python\n",
        "-Conditional statements in Python are used to make decisions in a program based on certain conditions.\n",
        "\n",
        "They allow your program to execute different blocks of code depending on whether a condition is True or False.\n",
        "\n",
        "-if\n",
        "-elif\n",
        "-else"
      ],
      "metadata": {
        "id": "0ZzKNVUol9Xg"
      }
    },
    {
      "cell_type": "markdown",
      "source": [
        "12. How does the elif statement work\n",
        "-The elif (short for \"else if\") statement is used when you want to check multiple conditions—only one block of code runs depending on which condition is true first.\n",
        "\n",
        "\n"
      ],
      "metadata": {
        "id": "Yxf3BJTHmZSB"
      }
    },
    {
      "cell_type": "markdown",
      "source": [
        "13. What is the difference between for and while loops\n",
        "-The main difference between for and while loops in Python lies in how they are used:\n",
        "\n",
        "for loop: Used when the number of iterations is known or when iterating over a sequence (like a list, tuple, or range).\n",
        "while loop: Used when the number of iterations is unknown and depends on a condition."
      ],
      "metadata": {
        "id": "3-b24VFumjNn"
      }
    },
    {
      "cell_type": "markdown",
      "source": [
        "14.Describe a scenario where a while loop is more suitable than a for loop.\n",
        "-Why while is more suitable:\n",
        "The loop continues as long as the condition (user_input != correct_password) is true.\n",
        "\n",
        "It stops only when the correct password is entered.\n",
        "\n",
        "A for loop wouldn't work naturally here because the number of attempts is not fixed.\n"
      ],
      "metadata": {
        "id": "rVFy-0TFnPBp"
      }
    },
    {
      "cell_type": "markdown",
      "source": [
        "Practical Questions"
      ],
      "metadata": {
        "id": "RvgZQKGynhzk"
      }
    },
    {
      "cell_type": "markdown",
      "source": [
        "1. Write a Python program to print \"Hello, World!y\n"
      ],
      "metadata": {
        "id": "4T4vuN1FnkM2"
      }
    },
    {
      "cell_type": "code",
      "source": [
        "# This program prints Hello, World!\n",
        "print(\"Hello, World!\")\n"
      ],
      "metadata": {
        "colab": {
          "base_uri": "https://localhost:8080/"
        },
        "id": "I2MLrRCYnvSe",
        "outputId": "b0f67d84-1da5-4562-d368-124f2fa6dde4"
      },
      "execution_count": 1,
      "outputs": [
        {
          "output_type": "stream",
          "name": "stdout",
          "text": [
            "Hello, World!\n"
          ]
        }
      ]
    },
    {
      "cell_type": "code",
      "source": [],
      "metadata": {
        "id": "bC3n1i6xnwaY"
      },
      "execution_count": null,
      "outputs": []
    },
    {
      "cell_type": "markdown",
      "source": [
        "2. Write a Python program that displays your name and age\n"
      ],
      "metadata": {
        "id": "DvpHN34knzzv"
      }
    },
    {
      "cell_type": "code",
      "source": [
        "# Displaying name and age\n",
        "name = \"Gouthami\"\n",
        "age = 25\n",
        "\n",
        "print(\"Name:\", name)\n",
        "print(\"Age:\", age)\n"
      ],
      "metadata": {
        "colab": {
          "base_uri": "https://localhost:8080/"
        },
        "id": "HyDUIMQNn6c_",
        "outputId": "ea39074c-f482-4413-c473-15e8ea8b0bd2"
      },
      "execution_count": 2,
      "outputs": [
        {
          "output_type": "stream",
          "name": "stdout",
          "text": [
            "Name: Gouthami\n",
            "Age: 25\n"
          ]
        }
      ]
    },
    {
      "cell_type": "markdown",
      "source": [
        "3. Write code to print all the pre-defined keywords in Python using the keyword library\n",
        "\n"
      ],
      "metadata": {
        "id": "gJZBb3Rvo7zb"
      }
    },
    {
      "cell_type": "code",
      "source": [
        "# Import the keyword module\n",
        "import keyword\n",
        "\n",
        "# Get the list of keywords\n",
        "keywords = keyword.kwlist\n",
        "\n",
        "# Print the keywords\n",
        "print(\"Python Pre-defined Keywords:\")\n",
        "for word in keywords:\n",
        "    print(word)\n"
      ],
      "metadata": {
        "colab": {
          "base_uri": "https://localhost:8080/"
        },
        "id": "SnDnnd0SpCcu",
        "outputId": "8d3c4dd5-c46a-4916-c65f-2797cda28134"
      },
      "execution_count": 3,
      "outputs": [
        {
          "output_type": "stream",
          "name": "stdout",
          "text": [
            "Python Pre-defined Keywords:\n",
            "False\n",
            "None\n",
            "True\n",
            "and\n",
            "as\n",
            "assert\n",
            "async\n",
            "await\n",
            "break\n",
            "class\n",
            "continue\n",
            "def\n",
            "del\n",
            "elif\n",
            "else\n",
            "except\n",
            "finally\n",
            "for\n",
            "from\n",
            "global\n",
            "if\n",
            "import\n",
            "in\n",
            "is\n",
            "lambda\n",
            "nonlocal\n",
            "not\n",
            "or\n",
            "pass\n",
            "raise\n",
            "return\n",
            "try\n",
            "while\n",
            "with\n",
            "yield\n"
          ]
        }
      ]
    },
    {
      "cell_type": "code",
      "source": [],
      "metadata": {
        "id": "MCyZLewDpMY1"
      },
      "execution_count": null,
      "outputs": []
    },
    {
      "cell_type": "markdown",
      "source": [
        "4. Write a program that checks if a given word is a Python keyword.\n"
      ],
      "metadata": {
        "id": "RKsuSpbFpNoY"
      }
    },
    {
      "cell_type": "code",
      "source": [
        "# Import the keyword module\n",
        "import keyword\n",
        "\n",
        "# Ask the user to enter a word\n",
        "word = input(\"Enter a word: \")\n",
        "\n",
        "# Check if the word is a Python keyword\n",
        "if keyword.iskeyword(word):\n",
        "    print(f\"'{word}' is a Python keyword.\")\n",
        "else:\n",
        "    print(f\"'{word}' is NOT a Python keyword.\")\n"
      ],
      "metadata": {
        "colab": {
          "base_uri": "https://localhost:8080/"
        },
        "id": "CelVi9sypc4F",
        "outputId": "704d0039-a1ac-42c0-f115-e7ce3ac972e5"
      },
      "execution_count": 4,
      "outputs": [
        {
          "output_type": "stream",
          "name": "stdout",
          "text": [
            "Enter a word: Hello\n",
            "'Hello' is NOT a Python keyword.\n"
          ]
        }
      ]
    },
    {
      "cell_type": "markdown",
      "source": [
        "5. Create a list and tuple in Python, and demonstrate how attempting to change an element works differently for each\n"
      ],
      "metadata": {
        "id": "0PLdo7tApxjZ"
      }
    },
    {
      "cell_type": "code",
      "source": [
        "# Create a list\n",
        "my_list = [10, 20, 30]\n",
        "\n",
        "# Modify the second element\n",
        "my_list[1] = 99\n",
        "\n",
        "print(\"Modified List:\", my_list)"
      ],
      "metadata": {
        "colab": {
          "base_uri": "https://localhost:8080/"
        },
        "id": "u3U9_oG4p9Q_",
        "outputId": "bb94af57-9fb1-457a-c738-03ada9ac12c0"
      },
      "execution_count": 5,
      "outputs": [
        {
          "output_type": "stream",
          "name": "stdout",
          "text": [
            "Modified List: [10, 99, 30]\n"
          ]
        }
      ]
    },
    {
      "cell_type": "code",
      "source": [],
      "metadata": {
        "id": "D7Y0PiwOp98V"
      },
      "execution_count": null,
      "outputs": []
    },
    {
      "cell_type": "markdown",
      "source": [
        "6. Write a function to demonstrate the behavior of mutable and immutable arguments."
      ],
      "metadata": {
        "id": "g0qg_Jo3p-8V"
      }
    },
    {
      "cell_type": "code",
      "source": [
        "def modify_arguments(a_number, a_list):\n",
        "    # Try to modify the immutable integer\n",
        "    a_number += 10\n",
        "    print(\"Inside function - modified number:\", a_number)\n",
        "\n",
        "    # Try to modify the mutable list\n",
        "    a_list.append(100)\n",
        "    print(\"Inside function - modified list:\", a_list)\n",
        "\n",
        "# Immutable argument (int)\n",
        "num = 5\n",
        "\n",
        "# Mutable argument (list)\n",
        "my_list = [1, 2, 3]\n",
        "\n",
        "# Call the function\n",
        "modify_arguments(num, my_list)\n",
        "\n",
        "# Check values after function call\n",
        "print(\"Outside function - original number:\", num)\n",
        "print(\"Outside function - original list:\", my_list)\n"
      ],
      "metadata": {
        "colab": {
          "base_uri": "https://localhost:8080/"
        },
        "id": "BM45PUXhqKSz",
        "outputId": "471c6b95-eb75-4a11-c05b-2f7088939a90"
      },
      "execution_count": 6,
      "outputs": [
        {
          "output_type": "stream",
          "name": "stdout",
          "text": [
            "Inside function - modified number: 15\n",
            "Inside function - modified list: [1, 2, 3, 100]\n",
            "Outside function - original number: 5\n",
            "Outside function - original list: [1, 2, 3, 100]\n"
          ]
        }
      ]
    },
    {
      "cell_type": "code",
      "source": [],
      "metadata": {
        "id": "RZpiJFe-qLAF"
      },
      "execution_count": null,
      "outputs": []
    },
    {
      "cell_type": "markdown",
      "source": [
        "7. Write a program that performs basic arithmetic operations on two user-input numbers."
      ],
      "metadata": {
        "id": "VKI78RCfqLsG"
      }
    },
    {
      "cell_type": "code",
      "source": [
        "# Get input from the user\n",
        "num1 = float(input(\"Enter the first number: \"))\n",
        "num2 = float(input(\"Enter the second number: \"))\n",
        "\n",
        "# Perform arithmetic operations\n",
        "addition = num1 + num2\n",
        "subtraction = num1 - num2\n",
        "multiplication = num1 * num2\n",
        "\n",
        "# Handle division by zero\n",
        "if num2 != 0:\n",
        "    division = num1 / num2\n",
        "else:\n",
        "    division = \"undefined (division by zero)\"\n",
        "\n",
        "# Display the results\n",
        "print(\"\\n--- Arithmetic Operations ---\")\n",
        "print(\"Addition:\", addition)\n",
        "print(\"Subtraction:\", subtraction)\n",
        "print(\"Multiplication:\", multiplication)\n",
        "print(\"Division:\", division)\n"
      ],
      "metadata": {
        "colab": {
          "base_uri": "https://localhost:8080/"
        },
        "id": "3kgZGIEwqWx-",
        "outputId": "084af0b0-ca62-40fe-a4c8-5de6a99780b2"
      },
      "execution_count": 7,
      "outputs": [
        {
          "output_type": "stream",
          "name": "stdout",
          "text": [
            "Enter the first number: 4\n",
            "Enter the second number: 5\n",
            "\n",
            "--- Arithmetic Operations ---\n",
            "Addition: 9.0\n",
            "Subtraction: -1.0\n",
            "Multiplication: 20.0\n",
            "Division: 0.8\n"
          ]
        }
      ]
    },
    {
      "cell_type": "markdown",
      "source": [],
      "metadata": {
        "id": "Z1A00Bllqddl"
      }
    },
    {
      "cell_type": "code",
      "source": [],
      "metadata": {
        "id": "yx5jI7aBqYDW"
      },
      "execution_count": null,
      "outputs": []
    },
    {
      "cell_type": "markdown",
      "source": [
        "8. Write a program to demonstrate the use of logical operators.\n"
      ],
      "metadata": {
        "id": "4k34ytnhqrjr"
      }
    },
    {
      "cell_type": "code",
      "source": [
        "# Get user input\n",
        "age = int(input(\"Enter your age: \"))\n",
        "has_id = input(\"Do you have a valid ID? (yes/no): \").lower()\n",
        "\n",
        "# Demonstrate 'and' operator\n",
        "if age >= 18 and has_id == \"yes\":\n",
        "    print(\"Access granted.\")\n",
        "else:\n",
        "    print(\"Access denied.\")\n",
        "\n",
        "# Demonstrate 'or' operator\n",
        "if age >= 18 or has_id == \"yes\":\n",
        "    print(\"You meet at least one requirement.\")\n",
        "\n",
        "# Demonstrate 'not' operator\n",
        "if not has_id == \"yes\":\n",
        "    print(\"You must carry a valid ID.\")\n"
      ],
      "metadata": {
        "colab": {
          "base_uri": "https://localhost:8080/"
        },
        "id": "vJLQKdVUq0VZ",
        "outputId": "5ea04d4a-2fde-45ef-d552-259c604a68c9"
      },
      "execution_count": 8,
      "outputs": [
        {
          "output_type": "stream",
          "name": "stdout",
          "text": [
            "Enter your age: 26\n",
            "Do you have a valid ID? (yes/no): yes\n",
            "Access granted.\n",
            "You meet at least one requirement.\n"
          ]
        }
      ]
    },
    {
      "cell_type": "code",
      "source": [],
      "metadata": {
        "id": "5ocoRWjxq1Fy"
      },
      "execution_count": null,
      "outputs": []
    },
    {
      "cell_type": "markdown",
      "source": [
        "9. Write a Python program to convert user input from string to integer, float, and boolean types."
      ],
      "metadata": {
        "id": "q3PG6APeq4Fv"
      }
    },
    {
      "cell_type": "code",
      "source": [
        "# Get input from the user\n",
        "user_input = input(\"Enter a value: \")\n",
        "\n",
        "# Convert to integer\n",
        "try:\n",
        "    int_value = int(user_input)\n",
        "    print(\"Integer value:\", int_value)\n",
        "except ValueError:\n",
        "    print(\"Cannot convert to integer.\")\n",
        "\n",
        "# Convert to float\n",
        "try:\n",
        "    float_value = float(user_input)\n",
        "    print(\"Float value:\", float_value)\n",
        "except ValueError:\n",
        "    print(\"Cannot convert to float.\")\n",
        "\n",
        "# Convert to boolean\n",
        "# Any non-empty string is considered True, empty string is False\n",
        "bool_value = bool(user_input)\n",
        "print(\"Boolean value:\", bool_value)\n"
      ],
      "metadata": {
        "colab": {
          "base_uri": "https://localhost:8080/"
        },
        "id": "hOWKjW-rrB7M",
        "outputId": "990475a5-8888-408a-88ae-440c1b078c9b"
      },
      "execution_count": 9,
      "outputs": [
        {
          "output_type": "stream",
          "name": "stdout",
          "text": [
            "Enter a value: 2\n",
            "Integer value: 2\n",
            "Float value: 2.0\n",
            "Boolean value: True\n"
          ]
        }
      ]
    },
    {
      "cell_type": "code",
      "source": [],
      "metadata": {
        "id": "LhMb-AcqrCja"
      },
      "execution_count": null,
      "outputs": []
    },
    {
      "cell_type": "markdown",
      "source": [
        "10. Write code to demonstrate type casting with list elements."
      ],
      "metadata": {
        "id": "ApUSQ4d-rED2"
      }
    },
    {
      "cell_type": "code",
      "source": [
        "# List of strings (e.g., from user input or a file)\n",
        "string_list = [\"10\", \"20\", \"30\", \"40\"]\n",
        "\n",
        "# Convert each element to integer using a loop\n",
        "int_list = []\n",
        "for item in string_list:\n",
        "    int_list.append(int(item))\n",
        "\n",
        "print(\"Original list (strings):\", string_list)\n",
        "print(\"Converted list (integers):\", int_list)\n",
        "\n",
        "# Now convert to floats using list comprehension\n",
        "float_list = [float(item) for item in string_list]\n",
        "print(\"Converted list (floats):\", float_list)\n"
      ],
      "metadata": {
        "colab": {
          "base_uri": "https://localhost:8080/"
        },
        "id": "f6RLXDSbrOyl",
        "outputId": "14ed1cef-adbb-4209-d736-cf14cc00287d"
      },
      "execution_count": 10,
      "outputs": [
        {
          "output_type": "stream",
          "name": "stdout",
          "text": [
            "Original list (strings): ['10', '20', '30', '40']\n",
            "Converted list (integers): [10, 20, 30, 40]\n",
            "Converted list (floats): [10.0, 20.0, 30.0, 40.0]\n"
          ]
        }
      ]
    },
    {
      "cell_type": "code",
      "source": [],
      "metadata": {
        "id": "-9jt6WT3rPZl"
      },
      "execution_count": null,
      "outputs": []
    },
    {
      "cell_type": "markdown",
      "source": [
        "11. Write a program that checks if a number is positive, negative, or zero."
      ],
      "metadata": {
        "id": "PF09PhJcrP_6"
      }
    },
    {
      "cell_type": "code",
      "source": [
        "# Get input from the user\n",
        "num = float(input(\"Enter a number: \"))\n",
        "\n",
        "# Check if the number is positive, negative, or zero\n",
        "if num > 0:\n",
        "    print(\"The number is positive.\")\n",
        "elif num < 0:\n",
        "    print(\"The number is negative.\")\n",
        "else:\n",
        "    print(\"The number is zero.\")\n"
      ],
      "metadata": {
        "colab": {
          "base_uri": "https://localhost:8080/"
        },
        "id": "4d4x98t9rY2O",
        "outputId": "f5aca9c6-a4ca-493c-f36b-a8176f387bfc"
      },
      "execution_count": 11,
      "outputs": [
        {
          "output_type": "stream",
          "name": "stdout",
          "text": [
            "Enter a number: 2\n",
            "The number is positive.\n"
          ]
        }
      ]
    },
    {
      "cell_type": "code",
      "source": [],
      "metadata": {
        "id": "CfWe8WvIrZhw"
      },
      "execution_count": null,
      "outputs": []
    },
    {
      "cell_type": "markdown",
      "source": [
        "12. Write a for loop to print numbers from 1 to 10."
      ],
      "metadata": {
        "id": "zUBXEugsra87"
      }
    },
    {
      "cell_type": "code",
      "source": [
        "# Using a for loop to print numbers from 1 to 10\n",
        "for i in range(1, 11):\n",
        "    print(i)\n"
      ],
      "metadata": {
        "colab": {
          "base_uri": "https://localhost:8080/"
        },
        "id": "14elvP1zriRT",
        "outputId": "bbf9de42-9da8-4f16-d026-35d8286ce6c1"
      },
      "execution_count": 12,
      "outputs": [
        {
          "output_type": "stream",
          "name": "stdout",
          "text": [
            "1\n",
            "2\n",
            "3\n",
            "4\n",
            "5\n",
            "6\n",
            "7\n",
            "8\n",
            "9\n",
            "10\n"
          ]
        }
      ]
    },
    {
      "cell_type": "code",
      "source": [],
      "metadata": {
        "id": "GpZ3Fl3hri7z"
      },
      "execution_count": null,
      "outputs": []
    },
    {
      "cell_type": "markdown",
      "source": [
        "13. Write a Python program to find the sum of all even numbers between 1 and 50."
      ],
      "metadata": {
        "id": "SqE4ZHlCrjjd"
      }
    },
    {
      "cell_type": "code",
      "source": [
        "# Initialize sum\n",
        "even_sum = 0\n",
        "\n",
        "# Loop through numbers from 1 to 50\n",
        "for num in range(1, 51):\n",
        "    if num % 2 == 0:\n",
        "        even_sum += num\n",
        "\n",
        "# Print the result\n",
        "print(\"Sum of even numbers from 1 to 50 is:\", even_sum)\n"
      ],
      "metadata": {
        "colab": {
          "base_uri": "https://localhost:8080/"
        },
        "id": "STf5yhhurptN",
        "outputId": "2ac79523-96e2-4032-b73a-f42928a0e687"
      },
      "execution_count": 13,
      "outputs": [
        {
          "output_type": "stream",
          "name": "stdout",
          "text": [
            "Sum of even numbers from 1 to 50 is: 650\n"
          ]
        }
      ]
    },
    {
      "cell_type": "code",
      "source": [],
      "metadata": {
        "id": "XdcIO5pErqQy"
      },
      "execution_count": null,
      "outputs": []
    },
    {
      "cell_type": "markdown",
      "source": [
        "14. Write a program to reverse a string using a while loop.\n"
      ],
      "metadata": {
        "id": "FqeXwbb9rq6l"
      }
    },
    {
      "cell_type": "code",
      "source": [
        "# Get input from the user\n",
        "text = input(\"Enter a string: \")\n",
        "\n",
        "# Initialize variables\n",
        "reversed_text = \"\"\n",
        "index = len(text) - 1\n",
        "\n",
        "# Reverse the string using while loop\n",
        "while index >= 0:\n",
        "    reversed_text += text[index]\n",
        "    index -= 1\n",
        "\n",
        "# Print the reversed string\n",
        "print(\"Reversed string:\", reversed_text)\n"
      ],
      "metadata": {
        "colab": {
          "base_uri": "https://localhost:8080/"
        },
        "id": "wLlY0sZDrw4S",
        "outputId": "9205dd78-c025-4f26-a416-1a999ba134c5"
      },
      "execution_count": 14,
      "outputs": [
        {
          "output_type": "stream",
          "name": "stdout",
          "text": [
            "Enter a string: Hello\n",
            "Reversed string: olleH\n"
          ]
        }
      ]
    },
    {
      "cell_type": "code",
      "source": [],
      "metadata": {
        "id": "_MhrAlDwrxcB"
      },
      "execution_count": null,
      "outputs": []
    },
    {
      "cell_type": "markdown",
      "source": [
        "15. Write a Python program to calculate the factorial of a number provided by the user using a while loop."
      ],
      "metadata": {
        "id": "os0rPgherzzR"
      }
    },
    {
      "cell_type": "code",
      "source": [
        "# Get input from the user\n",
        "num = int(input(\"Enter a non-negative integer: \"))\n",
        "\n",
        "# Initialize variables\n",
        "factorial = 1\n",
        "n = num\n",
        "\n",
        "# Check for valid input\n",
        "if num < 0:\n",
        "    print(\"Factorial is not defined for negative numbers.\")\n",
        "else:\n",
        "    while n > 1:\n",
        "        factorial *= n\n",
        "        n -= 1\n",
        "\n",
        "    # Print the result\n",
        "    print(f\"Factorial of {num} is:\", factorial)\n"
      ],
      "metadata": {
        "colab": {
          "base_uri": "https://localhost:8080/"
        },
        "id": "8Wi5KDg4r6B-",
        "outputId": "24d197b8-d467-4b17-d576-c2a67d52e28f"
      },
      "execution_count": 15,
      "outputs": [
        {
          "output_type": "stream",
          "name": "stdout",
          "text": [
            "Enter a non-negative integer: -4\n",
            "Factorial is not defined for negative numbers.\n"
          ]
        }
      ]
    },
    {
      "cell_type": "code",
      "source": [],
      "metadata": {
        "id": "NT7VKe4qr6kn"
      },
      "execution_count": null,
      "outputs": []
    }
  ]
}